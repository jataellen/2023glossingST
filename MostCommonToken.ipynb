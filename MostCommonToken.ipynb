{
 "cells": [
  {
   "cell_type": "code",
   "execution_count": 185,
   "id": "3d891069-4617-474e-8bfa-5d11f8d02628",
   "metadata": {},
   "outputs": [],
   "source": [
    "import os\n",
    "from itertools import islice\n",
    "from collections import Counter\n",
    "from nltk.tokenize import word_tokenize\n",
    "\n",
    "data_dir = \"data/Arapaho/\"\n",
    "filename= \"arp-dev-track2-uncovered\"\n",
    "N = 4\n",
    "\n",
    "def read_chunk(f, N):\n",
    "    lines = list()\n",
    "    while True:\n",
    "        line = f.readline()\n",
    "        if not line:\n",
    "            return None\n",
    "        if line.strip() == \"\":\n",
    "            break\n",
    "        lines.append(line)\n",
    "    return lines\n",
    "\n",
    "def get_file_content(filename, N):\n",
    "    word_dict = dict()\n",
    "    with open(filename) as f:    \n",
    "        while True:\n",
    "            lines = read_chunk(f, N)\n",
    "            if lines == None:\n",
    "                break\n",
    "            process_data(word_dict, lines)\n",
    "    return word_dict\n",
    "\n",
    "\n",
    "def process_data(word_dict, data):\n",
    "    # remove punct and lower\n",
    "    l = data[-1]\n",
    "    l = l.replace(\"\\\\l \", \"\").replace(\"\\n\", \"\").split(\" \")\n",
    "    l = [word.lower() for word in l if word.isalpha()]\n",
    "    \n",
    "    # split on space, -, and '\n",
    "    m = data[1][3:].replace(\"-\", \" \").replace(\"'\", \" \").split()\n",
    "    for m_word in m:\n",
    "        if m_word not in word_dict:\n",
    "            word_dict[m_word] = Counter()\n",
    "        word_dict[m_word].update(l)\n",
    "\n",
    "def get_most_common(word_dict):\n",
    "    most_common_dict = dict()\n",
    "    for key, value in word_dict.items():        \n",
    "        if len(value.most_common(1)) == 0:\n",
    "            most_common_dict[key] = (None, 0)\n",
    "        else:\n",
    "            most_common_dict[key] = value.most_common(1)[0]\n",
    "    return most_common_dict\n",
    "\n",
    "def get_top_N(most_common_dict, N_top):\n",
    "    if N_top == \"all\":\n",
    "        N_top = len(most_common_dict)\n",
    "    elif N_top > len(most_common_dict):\n",
    "        N_top = len(most_common_dict)\n",
    "    return sorted(most_common_dict.items(), key=lambda x:-x[1][1])[:N_top]\n",
    "\n",
    "# dev_dict = get_file_content(data_dir + \"arp-dev-track2-uncovered\", N)\n",
    "# dev_most_common = get_most_common(dev_dict)\n",
    "# get_top_N(dev_most_common, 10)\n",
    "\n",
    "# train_dict = get_file_content(\"arp-train-track2-uncovered\", N)\n",
    "# train_most_common = get_most_common(train_dict)\n",
    "# sorted_most_common"
   ]
  },
  {
   "cell_type": "code",
   "execution_count": 188,
   "id": "9bc3a9a3-4235-4e8f-a99f-2f7df4fe8edf",
   "metadata": {},
   "outputs": [
    {
     "data": {
      "text/plain": [
       "[('3i', ('they', 629)),\n",
       " ('nih', ('the', 555)),\n",
       " ('noh', ('and', 493)),\n",
       " ('noo', ('i', 392)),\n",
       " ('ne', ('then', 385)),\n",
       " ('he', ('the', 364)),\n",
       " ('t', ('he', 358)),\n",
       " ('nuhu', ('the', 358)),\n",
       " ('heet', ('will', 323)),\n",
       " ('no', ('the', 323))]"
      ]
     },
     "execution_count": 188,
     "metadata": {},
     "output_type": "execute_result"
    }
   ],
   "source": [
    "def get_N_most_common_from_file(data_dir, filename, N, top_N):\n",
    "    freq_dict = get_file_content(data_dir+filename, N)\n",
    "    most_common_dict = get_most_common(freq_dict)\n",
    "    top_N_list = get_top_N(most_common_dict, top_N)\n",
    "    return top_N_list\n",
    "\n",
    "# get_N_most_common_from_file(\"data/Arapaho/\", \"arp-dev-track2-uncovered\", 4, 10)    \n",
    "# get_N_most_common_from_file(\"data/Gitksan/\", \"git-dev-track2-uncovered\", 4, 100)       \n",
    "    "
   ]
  },
  {
   "cell_type": "code",
   "execution_count": null,
   "id": "e8e267ac-5803-468b-acff-e56427273ae1",
   "metadata": {},
   "outputs": [],
   "source": []
  },
  {
   "cell_type": "code",
   "execution_count": null,
   "id": "28da7894-4542-45a2-b0e8-bb2bc4001575",
   "metadata": {},
   "outputs": [],
   "source": []
  },
  {
   "cell_type": "code",
   "execution_count": null,
   "id": "bf8b50b3-cd8b-4510-9b7b-100e63ffea5b",
   "metadata": {},
   "outputs": [],
   "source": []
  }
 ],
 "metadata": {
  "kernelspec": {
   "display_name": "Python 3 (ipykernel)",
   "language": "python",
   "name": "python3"
  },
  "language_info": {
   "codemirror_mode": {
    "name": "ipython",
    "version": 3
   },
   "file_extension": ".py",
   "mimetype": "text/x-python",
   "name": "python",
   "nbconvert_exporter": "python",
   "pygments_lexer": "ipython3",
   "version": "3.10.6"
  }
 },
 "nbformat": 4,
 "nbformat_minor": 5
}
